{
 "cells": [
  {
   "cell_type": "markdown",
   "id": "d7ff8bd3-d1c8-43d1-a2a5-c4f8d2ac6dc9",
   "metadata": {
    "vscode": {
     "languageId": "html"
    }
   },
   "source": [
    "\n",
    "<img style=\"float: left;\" src='https://github.com/spacetelescope/jwst-pipeline-notebooks/raw/main/_static/stsci_header.png' alt=\"stsci_logo\" width=\"900px\"/>\n",
    "<img style=\"float: right;\" src=\"rocky_worlds_header_logo.png\" alt=\"Space Telescope Logo\" width=\"130px\"/> \n"
   ]
  },
  {
   "cell_type": "markdown",
   "id": "445f4c69-411c-47f7-98b1-fe89b5939062",
   "metadata": {},
   "source": [
    "# Descriptive Name of Notebook Here\n",
    "\n",
    "**Authors**: Author Name (Affiliation)<br>\n",
    "**Last Updated**: Month DD, YYYY<br>\n",
    "**JWST | HST Pipeline Version**: x.y.z<br>\n",
    "**rocky_worlds_utils Version**: x.y.z<br>\n",
    "**Eureka! Pipeline Version**: https://github.com/kevin218/Eureka/tree/tjb_rwddt\n",
    "\n",
    "The above packages are just examples. But if your notebook includes reduction software, they should be included here. Also include read me markdown files for more complex instructions and details about software.\n",
    "\n",
    "**Purpose**:<br/>\n",
    "\n",
    "Describe what methods are used in this notebook and what you are trying accomplish. Include important links to papers & resources like the [arxiv](https://arxiv.org/), [iopscience](https://iopscience.iop.org/)\n",
    "\n",
    "**Data**:<br/>\n",
    "Description of the dataproducts that the notebook will use. \"This notebook uses `rateints.fits` files\" or \"This notebook use COS/STIS `x1d.fits` files.\" Mention some specifics about the datasets, modes, dates, exposure times etc."
   ]
  },
  {
   "cell_type": "markdown",
   "id": "dccd37d3-5b60-436a-8cf6-1d81b7a1972e",
   "metadata": {},
   "source": [
    "## Table of Contents\n",
    "- [0. Imports](#0.-Imports)\n",
    "- [1. Data Analysis](#1.-Data-Analysis)\n",
    "- [2. Results](#2.-Results)"
   ]
  },
  {
   "cell_type": "markdown",
   "id": "0d17e0ac-b0a3-4534-8004-7ee7d18649db",
   "metadata": {},
   "source": [
    "## 0. Imports\n",
    "\n",
    "- matplotlib: plotting results of our analysis\n",
    "- numpy: numerical methods and math functions for data analysis"
   ]
  },
  {
   "cell_type": "code",
   "execution_count": null,
   "id": "9f98a6d5-b357-49a4-a14c-3f861021042c",
   "metadata": {},
   "outputs": [],
   "source": [
    "import matplotlib.pyplot as plt\n",
    "import numpy as np"
   ]
  },
  {
   "cell_type": "markdown",
   "id": "d8e301e7-2f11-4323-a92d-3bcc3f8b5f73",
   "metadata": {},
   "source": [
    "## 1. Data Analysis"
   ]
  },
  {
   "cell_type": "markdown",
   "id": "6d53fb50-6186-40ee-b9cb-32f28746f811",
   "metadata": {},
   "source": [
    "### 1.1 Method 1\n",
    "\n",
    "We also want to make sure we add short descriptions for our code cells. People might be good at reading python, but can't read your mind. Here we are going to analyze values of the numpy $\\tan$ function from $0 \\rightarrow 2\\pi$"
   ]
  },
  {
   "cell_type": "code",
   "execution_count": null,
   "id": "c9011459-6b12-47f0-a71e-07645ad36746",
   "metadata": {},
   "outputs": [],
   "source": [
    "tan_1 = np.tan(np.arange(0, 2*np.pi, 0.01))"
   ]
  },
  {
   "cell_type": "markdown",
   "id": "6f0a3a10-a864-4db2-a3ad-a0b8713a60bc",
   "metadata": {},
   "source": [
    "### 1.2 Method 2"
   ]
  },
  {
   "cell_type": "code",
   "execution_count": null,
   "id": "56cfca2d-0953-4333-a924-0a759145fcc0",
   "metadata": {},
   "outputs": [],
   "source": [
    "# If you don't want to write markdown, adding a comments in the code block is acceptable as well.\n",
    "# We know that you can represent tangent as sin/cos. Here we look at the cos and sin function from\n",
    "# 0 --> 2pi\n",
    "cos = np.cos(np.arange(0, 2*np.pi, 0.01))\n",
    "sin = np.sin(np.arange(0, 2*np.pi, 0.01))\n",
    "\n",
    "tan_2 = sin/cos"
   ]
  },
  {
   "cell_type": "markdown",
   "id": "f43428e8-df68-4efd-b9f6-9a3b62e65cb4",
   "metadata": {},
   "source": [
    "### 1.3 Compare Methods\n",
    "\n",
    "Here we compare the results of the two methods of calculating $\\tan$ from $0 \\rightarrow 2\\pi$. We checking to make sure the values of these two methods are within tolerances."
   ]
  },
  {
   "cell_type": "code",
   "execution_count": null,
   "id": "3c83436e-d83d-402a-9199-e838a72e2b5d",
   "metadata": {},
   "outputs": [],
   "source": [
    "np.allclose(tan_1, tan_2, rtol=1e-05, atol=1e-08)"
   ]
  },
  {
   "cell_type": "markdown",
   "id": "3b6bee7c-06ab-4e8e-9db8-d0082c61ecac",
   "metadata": {},
   "source": [
    "## 2. Results"
   ]
  },
  {
   "cell_type": "markdown",
   "id": "ce4989a3-9201-4cdd-b8b5-fcc3c7ddd8c5",
   "metadata": {},
   "source": [
    "The figure generated below is visually comparing the results of methods in sections 1.1 and 1.2."
   ]
  },
  {
   "cell_type": "code",
   "execution_count": null,
   "id": "476fb1fd-61b1-4e42-bcb5-bcfef4c2f6c1",
   "metadata": {},
   "outputs": [],
   "source": [
    "plt.plot(tan_1, label=\"np.tan\", ls=\"-.\", c=\"red\")\n",
    "plt.plot(tan_2, label=\"np.sin/np.cos\", ls=\"--\", c=\"black\")\n",
    "\n",
    "plt.title(\"Comparing np.tan to np.sin/np.cos\")\n",
    "plt.xlabel(\"Radians\")\n",
    "plt.ylabel(\"tan(Radians)\")\n",
    "plt.legend()\n",
    "plt.show()"
   ]
  },
  {
   "cell_type": "markdown",
   "id": "2b35bba7-1199-4665-9062-59f508c60f61",
   "metadata": {},
   "source": [
    "Although these two methods don't yield the result to the same numerical precision, with set tolerances and visual inspection show they are exteremely close!"
   ]
  },
  {
   "cell_type": "markdown",
   "id": "3a975f0d-cd6b-4585-a07d-5aaf0f6f2ab2",
   "metadata": {},
   "source": [
    "[Top of Page](#top)\n",
    "<img style=\"float: right;\" src=\"rocky_worlds_footer_logo.png\" alt=\"Space Telescope Logo\" width=\"200px\"/> \n",
    "<img style=\"float: right;\" src=\"https://raw.githubusercontent.com/spacetelescope/notebooks/master/assets/stsci_pri_combo_mark_horizonal_white_bkgd.png\" alt=\"Space Telescope Logo\" width=\"200px\\\"/> \n"
   ]
  }
 ],
 "metadata": {
  "kernelspec": {
   "display_name": "Python 3 (ipykernel)",
   "language": "python",
   "name": "python3"
  },
  "language_info": {
   "codemirror_mode": {
    "name": "ipython",
    "version": 3
   },
   "file_extension": ".py",
   "mimetype": "text/x-python",
   "name": "python",
   "nbconvert_exporter": "python",
   "pygments_lexer": "ipython3",
   "version": "3.11.12"
  }
 },
 "nbformat": 4,
 "nbformat_minor": 5
}
